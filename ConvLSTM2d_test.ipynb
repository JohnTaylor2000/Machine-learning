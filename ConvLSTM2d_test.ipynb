{
  "nbformat": 4,
  "nbformat_minor": 0,
  "metadata": {
    "colab": {
      "name": "ConvLSTM2d_test.ipynb",
      "provenance": [],
      "private_outputs": true,
      "collapsed_sections": [],
      "authorship_tag": "ABX9TyPoCzStjwzadxbMxpKmodYY",
      "include_colab_link": true
    },
    "kernelspec": {
      "name": "python3",
      "display_name": "Python 3"
    },
    "accelerator": "GPU"
  },
  "cells": [
    {
      "cell_type": "markdown",
      "metadata": {
        "id": "view-in-github",
        "colab_type": "text"
      },
      "source": [
        "<a href=\"https://colab.research.google.com/github/JohnTaylor2000/Machine-learning/blob/master/ConvLSTM2d_test.ipynb\" target=\"_parent\"><img src=\"https://colab.research.google.com/assets/colab-badge.svg\" alt=\"Open In Colab\"/></a>"
      ]
    },
    {
      "cell_type": "markdown",
      "metadata": {
        "id": "EeTwjuyiN7IK",
        "colab_type": "text"
      },
      "source": [
        "**Title**: Next-frame prediction with Conv-LSTM\n",
        "**Author**: [jeammimi](https://github.com/jeammimi)\n",
        "**Date created**: 2016/11/02\n",
        "**Last modified:** 2020/06/01\n",
        "\n",
        "**Description:** Predict the next frame in a sequence using a Conv-LSTM model.\n",
        "\n",
        "**Adapted:** by John Taylor 2020/07 to run in google colab and have added back plotting\n",
        "\n",
        "## Introduction\n",
        "\n",
        "This script demonstrates the use of a convolutional LSTM model.\n",
        "The model is used to predict the next frame of an artificially\n",
        "generated movie which contains moving squares.\n"
      ]
    },
    {
      "cell_type": "markdown",
      "metadata": {
        "id": "8c-fR6puOdXD",
        "colab_type": "text"
      },
      "source": [
        "Start by loading **Nvidia GPU environment** variables that suppress warning messages. Only needed when running on nvidia GPUs."
      ]
    },
    {
      "cell_type": "code",
      "metadata": {
        "id": "MQOoMHSzOyxe",
        "colab_type": "code",
        "colab": {}
      },
      "source": [
        "import os\n",
        "os.environ[\"TF_DISABLE_NVTX_RANGES\"] = \"1\"\n",
        "os.environ[\"TF_CPP_MIN_LOG_LEVEL\"] = \"2\"\n",
        "os.environ[\"NCCL_DEBUG\"] = \"WARN\"\n",
        "\n"
      ],
      "execution_count": null,
      "outputs": []
    },
    {
      "cell_type": "markdown",
      "metadata": {
        "id": "fG6bsIJGO9vs",
        "colab_type": "text"
      },
      "source": [
        "Add **Matplotlib** plotting library and **Numpy** maths library"
      ]
    },
    {
      "cell_type": "code",
      "metadata": {
        "id": "Cmtf5e24PHP2",
        "colab_type": "code",
        "colab": {}
      },
      "source": [
        "import numpy as np\n",
        "import matplotlib\n",
        "from matplotlib import pyplot as plt"
      ],
      "execution_count": null,
      "outputs": []
    },
    {
      "cell_type": "markdown",
      "metadata": {
        "id": "ph06BJYsbRo0",
        "colab_type": "text"
      },
      "source": [
        "Add the **time** library so we can time code"
      ]
    },
    {
      "cell_type": "code",
      "metadata": {
        "id": "NK-Bu4SebS5F",
        "colab_type": "code",
        "colab": {}
      },
      "source": [
        "import time"
      ],
      "execution_count": null,
      "outputs": []
    },
    {
      "cell_type": "markdown",
      "metadata": {
        "id": "f9mwq8EdPUyo",
        "colab_type": "text"
      },
      "source": [
        "Add **TensorFlow** - we will use Keras to create the model."
      ]
    },
    {
      "cell_type": "code",
      "metadata": {
        "id": "MwSsXk5bPhRD",
        "colab_type": "code",
        "colab": {}
      },
      "source": [
        "import tensorflow as tf\n",
        "from tensorflow import keras\n",
        "from tensorflow.keras.models import Sequential\n",
        "from tensorflow.keras.layers import Input, ConvLSTM2D, BatchNormalization, Conv3D"
      ],
      "execution_count": null,
      "outputs": []
    },
    {
      "cell_type": "markdown",
      "metadata": {
        "id": "c7T_ePHLbWZl",
        "colab_type": "text"
      },
      "source": [
        "**Test for the presence of a GPU device**"
      ]
    },
    {
      "cell_type": "code",
      "metadata": {
        "id": "KXbYs9cxarCk",
        "colab_type": "code",
        "colab": {}
      },
      "source": [
        "device_name = tf.test.gpu_device_name()\n",
        "if device_name != '/device:GPU:0':\n",
        "  print(\n",
        "      '\\n\\nThis error most likely means that this notebook is not '\n",
        "      'configured to use a GPU.  Change this in Notebook Settings via the '\n",
        "      'command palette (cmd/ctrl-shift-P) or the Edit menu.\\n\\n')\n",
        "  raise SystemError('GPU device not found')\n",
        "print('Found GPU at: {}'.format(device_name))"
      ],
      "execution_count": null,
      "outputs": []
    },
    {
      "cell_type": "markdown",
      "metadata": {
        "id": "uJWZj_lVQ1k5",
        "colab_type": "text"
      },
      "source": [
        "**Build the model**\n",
        "\n",
        "We create a model which take as input movies of shape\n",
        "`(n_frames, width, height, channels)` and returns a movie\n",
        "of identical shape.\n",
        "We set Variable-length sequence of 40x40x1 frames"
      ]
    },
    {
      "cell_type": "markdown",
      "metadata": {
        "id": "I6Kf0nh0U3AC",
        "colab_type": "text"
      },
      "source": [
        "Select the **frame size, number of filters and layers** in the model, then define and compile the model."
      ]
    },
    {
      "cell_type": "code",
      "metadata": {
        "id": "zD-BQeHwL2X-",
        "colab_type": "code",
        "colab": {}
      },
      "source": [
        "frame_size = 40     # number of pixels in x and y dimensions\n",
        "num_filters = 40    # base number of hidden units\n",
        "num_layers = 5      # in addition to input and output layer\n",
        "scale_fac = 1       # increase the number of hidden units per layer\n",
        "\n",
        "model = keras.Sequential()\n",
        "\n",
        "model.add(Input(shape=(None, frame_size, frame_size, 1)))\n",
        "\n",
        "scale = scale_fac\n",
        "if num_layers > 0:\n",
        "  scale = scale_fac\n",
        "  for i in range (num_layers):\n",
        "    model.add(ConvLSTM2D(filters=num_filters*scale, kernel_size=(3, 3), padding=\"same\", return_sequences=True))\n",
        "    model.add(BatchNormalization())\n",
        "    scale = scale * scale_fac\n",
        "\n",
        "# must set first parameter in kernel size = 1 to track movement\n",
        "\n",
        "model.add(Conv3D(filters=1, kernel_size=(1, 3, 3), activation=\"sigmoid\", padding=\"same\"))\n",
        "  \n",
        "model.compile(loss=\"binary_crossentropy\", optimizer=\"adam\")\n",
        "#model.compile(loss=\"mse\", optimizer=\"adam\")\n",
        "\n"
      ],
      "execution_count": null,
      "outputs": []
    },
    {
      "cell_type": "markdown",
      "metadata": {
        "id": "s6RK46NaXnQq",
        "colab_type": "text"
      },
      "source": [
        "**Print a summary of the model**"
      ]
    },
    {
      "cell_type": "code",
      "metadata": {
        "id": "7C_riq0TXuTa",
        "colab_type": "code",
        "colab": {}
      },
      "source": [
        "model.summary()"
      ],
      "execution_count": null,
      "outputs": []
    },
    {
      "cell_type": "markdown",
      "metadata": {
        "id": "0gKqZIamYlEJ",
        "colab_type": "text"
      },
      "source": [
        "**Generate artificial data**\n",
        "\n",
        "Generate movies with 3 to 7 moving squares inside.\n",
        "The squares are of shape 1x1 or 2x2 pixels,\n",
        "and move linearly over time.\n",
        "\n",
        "For convenience, we first create movies with bigger width and height (80x80)\n",
        "and at the end we select a 40x40 window.\n"
      ]
    },
    {
      "cell_type": "code",
      "metadata": {
        "id": "-67VbB7jWU43",
        "colab_type": "code",
        "colab": {}
      },
      "source": [
        "def generate_movies(n_samples=1200, n_frames=15):\n",
        "    row = 80\n",
        "    col = 80\n",
        "    noisy_movies = np.zeros((n_samples, n_frames, row, col, 1), dtype=np.float)\n",
        "    shifted_movies = np.zeros((n_samples, n_frames, row, col, 1), dtype=np.float)\n",
        "\n",
        "    for i in range(n_samples):\n",
        "        # Add 3 to 7 moving squares\n",
        "        n = np.random.randint(5, 10)\n",
        "\n",
        "        for j in range(n):\n",
        "            # Initial position\n",
        "            xstart = np.random.randint(20, 60)\n",
        "            ystart = np.random.randint(20, 60)\n",
        "            # Direction of motion\n",
        "           # directionx = np.random.randint(0, 3) - 1\n",
        "            directionx = np.random.randint(0, 5) - 1\n",
        "            directiony = np.random.randint(0, 5) - 1\n",
        "\n",
        "            # Size of the square\n",
        "            w = np.random.randint(2, 4)\n",
        "\n",
        "            for t in range(n_frames):\n",
        "                x_shift = xstart + directionx * t\n",
        "                y_shift = ystart + directiony * t\n",
        "                noisy_movies[\n",
        "                    i, t, x_shift - w : x_shift + w, y_shift - w : y_shift + w, 0\n",
        "                ] += 1\n",
        "\n",
        "                # Make it more robust by adding noise.\n",
        "                # The idea is that if during inference,\n",
        "                # the value of the pixel is not exactly one,\n",
        "                # we need to train the model to be robust and still\n",
        "                # consider it as a pixel belonging to a square.\n",
        "                noise = False\n",
        "                if np.random.randint(0, 2) and noise:\n",
        "                    noise_f = (-1) ** np.random.randint(0, 2)\n",
        "                    noisy_movies[\n",
        "                        i,\n",
        "                        t,\n",
        "                        x_shift - w - 1 : x_shift + w + 1,\n",
        "                        y_shift - w - 1 : y_shift + w + 1,\n",
        "                        0,\n",
        "                    ] += (noise_f * 0.1)\n",
        "\n",
        "                # Shift the ground truth by 1\n",
        "                x_shift = xstart + directionx * (t + 1)\n",
        "                y_shift = ystart + directiony * (t + 1)\n",
        "                shifted_movies[\n",
        "                    i, t, x_shift - w : x_shift + w, y_shift - w : y_shift + w, 0\n",
        "                ] += 1\n",
        "\n",
        "    # Cut to a 40x40 window\n",
        "    noisy_movies = noisy_movies[::, ::, 20:60, 20:60, ::]\n",
        "    shifted_movies = shifted_movies[::, ::, 20:60, 20:60, ::]\n",
        "    noisy_movies[noisy_movies >= 1] = 1\n",
        "    shifted_movies[shifted_movies >= 1] = 1\n",
        "    \n",
        "    return noisy_movies, shifted_movies\n",
        "\n",
        "#noisy_movies, shifted_movies = generate_movies(n_samples)\n",
        "#for i in range(40):\n",
        "#  print (noisy_movies[1,1,i,:40,0])\n"
      ],
      "execution_count": null,
      "outputs": []
    },
    {
      "cell_type": "markdown",
      "metadata": {
        "id": "mS5VTCAzW6td",
        "colab_type": "text"
      },
      "source": [
        "**Train the model**"
      ]
    },
    {
      "cell_type": "code",
      "metadata": {
        "id": "TLVni_6bWdTH",
        "colab_type": "code",
        "colab": {}
      },
      "source": [
        "num_epochs     = 10  # In practice, you would need hundreds of epochs.\n",
        "n_samples  = 1200 \n",
        "batch_size = 10\n",
        "\n",
        "\n",
        "t0 = time.time()\n",
        "\n",
        "noisy_movies, shifted_movies = generate_movies(n_samples)\n",
        "\n",
        "history = model.fit(\n",
        "    noisy_movies[:1000],\n",
        "    shifted_movies[:1000],\n",
        "    batch_size=batch_size,\n",
        "    epochs=num_epochs,\n",
        "    verbose=1,\n",
        "    validation_split=0.1,\n",
        ")\n",
        "elapsed_time = time.time() - t0\n",
        "print (' Model Train Elapsed Time (sec) = ', elapsed_time)\n",
        "print (' Completed ', num_epochs, ' Epochs.', ' Elapsed Time (sec) = ', elapsed_time)\n"
      ],
      "execution_count": null,
      "outputs": []
    },
    {
      "cell_type": "markdown",
      "metadata": {
        "id": "EemI5bLMbwmC",
        "colab_type": "text"
      },
      "source": [
        "**Plot the train and test model history**"
      ]
    },
    {
      "cell_type": "code",
      "metadata": {
        "id": "9j3OgFPub2KA",
        "colab_type": "code",
        "colab": {}
      },
      "source": [
        "plt.rcParams['figure.figsize'] = [10, 10]\n",
        "plt.plot(history.history['loss'])\n",
        "plt.plot(history.history['val_loss'])\n",
        "plt.title('Model loss')\n",
        "plt.ylabel('Loss')\n",
        "plt.xlabel('Epoch')\n",
        "plt.legend(['Train', 'Test'], loc='upper right')\n",
        "plt.show()"
      ],
      "execution_count": null,
      "outputs": []
    },
    {
      "cell_type": "markdown",
      "metadata": {
        "id": "xoD9eIzUWtfy",
        "colab_type": "text"
      },
      "source": [
        "**Test the model on one movie**\n",
        "\n",
        "Feed it with the first 7 positions and then\n",
        "predict the new positions."
      ]
    },
    {
      "cell_type": "code",
      "metadata": {
        "id": "ZaeoN3NiPBoC",
        "colab_type": "code",
        "colab": {}
      },
      "source": [
        "movie_index = 1004\n",
        "test_movie = noisy_movies[movie_index]\n",
        "\n",
        "# Start from first 7 frames\n",
        "track = test_movie[:7, ::, ::, ::]\n",
        "\n",
        "# Predict 16 frames\n",
        "for j in range(16):\n",
        "    print(j)\n",
        "    new_pos = model.predict(track[np.newaxis, ::, ::, ::, ::])\n",
        "    #print('new_pos = ', new_pos.shape)\n",
        "    new = new_pos[::, -1, ::, ::, ::]\n",
        "    track = np.concatenate((track, new), axis=0)\n",
        "    #print('track = ', track.shape)\n",
        "\n",
        "print(track.shape)\n",
        "\n",
        "track2 = noisy_movies[movie_index][::, ::, ::, ::]\n",
        "for i in range(15):\n",
        "    fig = plt.figure(figsize=(20, 10))\n",
        "\n",
        "    ax = fig.add_subplot(121)\n",
        "\n",
        "    if i >= 7:\n",
        "        ax.text(1, 3, 'Predictions !', fontsize=20, color='w')\n",
        "    else:\n",
        "        ax.text(1, 3, 'Initial trajectory', fontsize=20, color='w')\n",
        "\n",
        "    toplot = track[i, ::, ::, 0]\n",
        "\n",
        "    plt.imshow(toplot, cmap=\"cool\")\n",
        "    ax = fig.add_subplot(122)\n",
        "    plt.text(1, 3, 'Ground truth', color='w', fontsize=20)\n",
        "\n",
        "    toplot = track2[i, ::, ::, 0]\n",
        "    if i >= 2:\n",
        "        toplot = shifted_movies[movie_index][i - 1, ::, ::, 0]\n",
        "    plt.imshow(toplot)\n",
        "    # plt.savefig('%i_animate.png' % (i + 1))\n"
      ],
      "execution_count": null,
      "outputs": []
    }
  ]
}